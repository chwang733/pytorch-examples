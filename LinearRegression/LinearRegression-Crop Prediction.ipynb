{
 "cells": [
  {
   "cell_type": "markdown",
   "metadata": {},
   "source": [
    "## PyTorch Linear Regression Model to predict crop yield"
   ]
  },
  {
   "attachments": {},
   "cell_type": "markdown",
   "metadata": {},
   "source": [
    "We'll create a model that predicts crop yeilds for apples and oranges (target variables) by looking at the average temperature, rainfall and humidity (input variables or features) in a region. Here's the training data:\n",
    "\n",
    "![crop.png](crop.png)\n",
    "\n",
    "\n",
    "In a linear regression model, each target variable is estimated to be a weighted sum of the input variables, offset by some constant, known as a bias :\n",
    "\n",
    "yeild_apple  = w11 * temp + w12 * rainfall + w13 * humidity + b1\n",
    "\n",
    "yeild_orange = w21 * temp + w22 * rainfall + w23 * humidity + b2"
   ]
  },
  {
   "cell_type": "code",
   "execution_count": 3,
   "metadata": {},
   "outputs": [],
   "source": [
    "import torch\n",
    "import torch.nn as nn\n",
    "import numpy as np\n"
   ]
  },
  {
   "cell_type": "code",
   "execution_count": 19,
   "metadata": {},
   "outputs": [],
   "source": [
    "inputs = np.array([[73, 67, 43], \n",
    "                   [91, 88, 64], \n",
    "                   [87, 134, 58], \n",
    "                   [102, 43, 37], \n",
    "                   [69, 96, 70]], dtype='float32')\n",
    "targets = np.array([[56,70],\n",
    "                    [81,101],\n",
    "                    [119,133],\n",
    "                    [22,37],\n",
    "                    [103,119]],dtype='float32')"
   ]
  },
  {
   "cell_type": "code",
   "execution_count": 20,
   "metadata": {},
   "outputs": [
    {
     "data": {
      "text/plain": [
       "(tensor([[ 73.,  67.,  43.],\n",
       "         [ 91.,  88.,  64.],\n",
       "         [ 87., 134.,  58.],\n",
       "         [102.,  43.,  37.],\n",
       "         [ 69.,  96.,  70.]]), tensor([[ 56.,  70.],\n",
       "         [ 81., 101.],\n",
       "         [119., 133.],\n",
       "         [ 22.,  37.],\n",
       "         [103., 119.]]))"
      ]
     },
     "execution_count": 20,
     "metadata": {},
     "output_type": "execute_result"
    }
   ],
   "source": [
    "X=torch.from_numpy(inputs)\n",
    "y=torch.from_numpy(targets)\n",
    "X,y"
   ]
  },
  {
   "cell_type": "code",
   "execution_count": 60,
   "metadata": {},
   "outputs": [
    {
     "data": {
      "text/plain": [
       "(tensor([[ 1.8823,  1.4529],\n",
       "         [-0.2704,  0.3746],\n",
       "         [-0.6210, -0.1260]], requires_grad=True),\n",
       " tensor([-0.4412, -0.5116], requires_grad=True))"
      ]
     },
     "execution_count": 60,
     "metadata": {},
     "output_type": "execute_result"
    }
   ],
   "source": [
    "w=torch.randn((3,2),requires_grad=True)\n",
    "b=torch.randn(2,requires_grad=True)\n",
    "w,b"
   ]
  },
  {
   "cell_type": "code",
   "execution_count": 61,
   "metadata": {},
   "outputs": [],
   "source": [
    "def model(X): return X@w + b"
   ]
  },
  {
   "cell_type": "code",
   "execution_count": 62,
   "metadata": {},
   "outputs": [],
   "source": [
    "def mse(y_hat, y): return ((y_hat-y)**2).mean()"
   ]
  },
  {
   "cell_type": "markdown",
   "metadata": {},
   "source": [
    "### Code the Gradient Descend manually"
   ]
  },
  {
   "cell_type": "code",
   "execution_count": 51,
   "metadata": {},
   "outputs": [
    {
     "name": "stdout",
     "output_type": "stream",
     "text": [
      "tensor(21878.0352, grad_fn=<MeanBackward1>)\n",
      "tensor(576.6278, grad_fn=<MeanBackward1>)\n",
      "tensor(112.7273, grad_fn=<MeanBackward1>)\n",
      "tensor(35.0276, grad_fn=<MeanBackward1>)\n",
      "tensor(13.6865, grad_fn=<MeanBackward1>)\n",
      "tensor(7.2661, grad_fn=<MeanBackward1>)\n",
      "tensor(4.9855, grad_fn=<MeanBackward1>)\n",
      "tensor(3.9168, grad_fn=<MeanBackward1>)\n",
      "tensor(3.2530, grad_fn=<MeanBackward1>)\n",
      "tensor(2.7626, grad_fn=<MeanBackward1>)\n",
      "tensor(2.3723, grad_fn=<MeanBackward1>)\n",
      "tensor(2.0532, grad_fn=<MeanBackward1>)\n",
      "tensor(1.7898, grad_fn=<MeanBackward1>)\n",
      "tensor(1.5718, grad_fn=<MeanBackward1>)\n",
      "tensor(1.3911, grad_fn=<MeanBackward1>)\n",
      "tensor(1.2414, grad_fn=<MeanBackward1>)\n",
      "tensor(1.1173, grad_fn=<MeanBackward1>)\n",
      "tensor(1.0144, grad_fn=<MeanBackward1>)\n",
      "tensor(0.9291, grad_fn=<MeanBackward1>)\n",
      "tensor(0.8585, grad_fn=<MeanBackward1>)\n"
     ]
    }
   ],
   "source": [
    "lr=1e-4\n",
    "for i in range(0,200):\n",
    "    y_hat=model(X)\n",
    "    loss=mse(y_hat,y)\n",
    "    loss.backward()\n",
    "    if i % 10 ==0: print(loss) \n",
    "    with torch.no_grad():\n",
    "        w.sub_(lr*w.grad)              \n",
    "        b.sub_(lr*b.grad)\n",
    "        w.grad.zero_()\n",
    "        b.grad.zero_()\n",
    "        "
   ]
  },
  {
   "cell_type": "markdown",
   "metadata": {},
   "source": [
    "### Use Pytorch build-in model"
   ]
  },
  {
   "cell_type": "code",
   "execution_count": 66,
   "metadata": {},
   "outputs": [
    {
     "name": "stdout",
     "output_type": "stream",
     "text": [
      "tensor(18982.9941, grad_fn=<MseLossBackward>)\n",
      "tensor(379.3912, grad_fn=<MseLossBackward>)\n",
      "tensor(74.0150, grad_fn=<MseLossBackward>)\n",
      "tensor(32.3350, grad_fn=<MseLossBackward>)\n",
      "tensor(19.3587, grad_fn=<MseLossBackward>)\n",
      "tensor(14.1045, grad_fn=<MseLossBackward>)\n",
      "tensor(11.2326, grad_fn=<MseLossBackward>)\n",
      "tensor(9.2527, grad_fn=<MseLossBackward>)\n",
      "tensor(7.7198, grad_fn=<MseLossBackward>)\n",
      "tensor(6.4783, grad_fn=<MseLossBackward>)\n",
      "tensor(5.4570, grad_fn=<MseLossBackward>)\n",
      "tensor(4.6125, grad_fn=<MseLossBackward>)\n",
      "tensor(3.9131, grad_fn=<MseLossBackward>)\n",
      "tensor(3.3334, grad_fn=<MseLossBackward>)\n",
      "tensor(2.8529, grad_fn=<MseLossBackward>)\n",
      "tensor(2.4546, grad_fn=<MseLossBackward>)\n",
      "tensor(2.1244, grad_fn=<MseLossBackward>)\n",
      "tensor(1.8507, grad_fn=<MseLossBackward>)\n",
      "tensor(1.6238, grad_fn=<MseLossBackward>)\n",
      "tensor(1.4357, grad_fn=<MseLossBackward>)\n"
     ]
    }
   ],
   "source": [
    "lr=1e-4\n",
    "lrmodel=nn.Linear(3,2) \n",
    "criterion=nn.functional.mse_loss\n",
    "for i in range(0,200):    \n",
    "    y_hat=lrmodel(X)\n",
    "    loss=criterion(y_hat,y)\n",
    "    loss.backward()\n",
    "    if i % 10 ==0: print(loss) \n",
    "    with torch.no_grad():\n",
    "        w=lrmodel.weight\n",
    "        b=lrmodel.bias         \n",
    "        w.sub_(lr*w.grad)              \n",
    "        b.sub_(lr*b.grad)\n",
    "        w.grad.zero_()\n",
    "        b.grad.zero_()"
   ]
  },
  {
   "cell_type": "markdown",
   "metadata": {},
   "source": [
    "### Use dataloader & mini batch"
   ]
  },
  {
   "cell_type": "code",
   "execution_count": 71,
   "metadata": {},
   "outputs": [
    {
     "data": {
      "text/plain": [
       "(tensor([[73., 67., 43.],\n",
       "         [91., 88., 64.]]), tensor([[ 56.,  70.],\n",
       "         [ 81., 101.]]))"
      ]
     },
     "metadata": {},
     "output_type": "display_data"
    }
   ],
   "source": [
    "from torch.utils.data import TensorDataset, DataLoader\n",
    "ds=TensorDataset(X,y)\n",
    "display(ds[0:2])"
   ]
  },
  {
   "cell_type": "code",
   "execution_count": 75,
   "metadata": {},
   "outputs": [
    {
     "data": {
      "text/plain": [
       "[tensor([[ 69.,  96.,  70.],\n",
       "         [ 91.,  88.,  64.],\n",
       "         [102.,  43.,  37.]]), tensor([[103., 119.],\n",
       "         [ 81., 101.],\n",
       "         [ 22.,  37.]])]"
      ]
     },
     "execution_count": 75,
     "metadata": {},
     "output_type": "execute_result"
    }
   ],
   "source": [
    "dl=DataLoader(ds,batch_size=3,shuffle=True)\n"
   ]
  },
  {
   "cell_type": "code",
   "execution_count": 82,
   "metadata": {},
   "outputs": [
    {
     "data": {
      "text/plain": [
       "[tensor([[ 69.,  96.,  70.],\n",
       "         [ 87., 134.,  58.],\n",
       "         [102.,  43.,  37.]]), tensor([[103., 119.],\n",
       "         [119., 133.],\n",
       "         [ 22.,  37.]])]"
      ]
     },
     "execution_count": 82,
     "metadata": {},
     "output_type": "execute_result"
    }
   ],
   "source": [
    "next(iter(dl))"
   ]
  },
  {
   "cell_type": "markdown",
   "metadata": {},
   "source": [
    "### Use optimizer in SGD training"
   ]
  },
  {
   "cell_type": "code",
   "execution_count": 89,
   "metadata": {},
   "outputs": [
    {
     "name": "stdout",
     "output_type": "stream",
     "text": [
      "tensor(3713.3618, grad_fn=<MseLossBackward>)\n",
      "tensor(43.7201, grad_fn=<MseLossBackward>)\n",
      "tensor(21.0700, grad_fn=<MseLossBackward>)\n",
      "tensor(13.9887, grad_fn=<MseLossBackward>)\n",
      "tensor(9.7272, grad_fn=<MseLossBackward>)\n",
      "tensor(6.8428, grad_fn=<MseLossBackward>)\n",
      "tensor(4.8640, grad_fn=<MseLossBackward>)\n",
      "tensor(3.5043, grad_fn=<MseLossBackward>)\n",
      "tensor(2.5700, grad_fn=<MseLossBackward>)\n",
      "tensor(1.9279, grad_fn=<MseLossBackward>)\n",
      "tensor(1.4867, grad_fn=<MseLossBackward>)\n",
      "tensor(1.1835, grad_fn=<MseLossBackward>)\n",
      "tensor(0.9751, grad_fn=<MseLossBackward>)\n",
      "tensor(0.8320, grad_fn=<MseLossBackward>)\n",
      "tensor(0.7336, grad_fn=<MseLossBackward>)\n",
      "tensor(0.6659, grad_fn=<MseLossBackward>)\n",
      "tensor(0.6195, grad_fn=<MseLossBackward>)\n",
      "tensor(0.5875, grad_fn=<MseLossBackward>)\n",
      "tensor(0.5656, grad_fn=<MseLossBackward>)\n",
      "tensor(0.5505, grad_fn=<MseLossBackward>)\n"
     ]
    }
   ],
   "source": [
    "lrmodel=nn.Linear(3,2) \n",
    "criterion=nn.functional.mse_loss\n",
    "opt = torch.optim.SGD(lrmodel.parameters(), lr=1e-4)\n",
    "\n",
    "for i in range(0,200):    \n",
    "    for batX, baty in dl:\n",
    "        y_hat=lrmodel(X)\n",
    "        loss=criterion(y_hat,y)\n",
    "        loss.backward()        \n",
    "        opt.step()\n",
    "        opt.zero_grad()\n",
    "        \n",
    "    if i % 10 ==0: print(loss) \n"
   ]
  }
 ],
 "metadata": {
  "kernelspec": {
   "display_name": "Python [default]",
   "language": "python",
   "name": "python3"
  },
  "language_info": {
   "codemirror_mode": {
    "name": "ipython",
    "version": 3
   },
   "file_extension": ".py",
   "mimetype": "text/x-python",
   "name": "python",
   "nbconvert_exporter": "python",
   "pygments_lexer": "ipython3",
   "version": "3.6.6"
  }
 },
 "nbformat": 4,
 "nbformat_minor": 2
}
